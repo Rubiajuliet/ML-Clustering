{
 "cells": [
  {
   "cell_type": "code",
   "execution_count": null,
   "id": "d4a7fadb",
   "metadata": {},
   "outputs": [],
   "source": [
    "import numpy as np\n",
    "import matplotlib.pyplot as plt\n",
    "import pandas as pd"
   ]
  },
  {
   "cell_type": "code",
   "execution_count": null,
   "id": "09a89db1",
   "metadata": {},
   "outputs": [],
   "source": [
    "dataset=pd.read_csv('Mall_Customers.csv')"
   ]
  },
  {
   "cell_type": "code",
   "execution_count": null,
   "id": "eb08d64d",
   "metadata": {},
   "outputs": [],
   "source": [
    "dataset"
   ]
  },
  {
   "cell_type": "code",
   "execution_count": null,
   "id": "f3a152cd",
   "metadata": {},
   "outputs": [],
   "source": [
    "x=dataset.iloc[:,[3,4]].values"
   ]
  },
  {
   "cell_type": "code",
   "execution_count": null,
   "id": "9cc31399",
   "metadata": {},
   "outputs": [],
   "source": [
    "#or x=dataset.iloc[:,3:5].values"
   ]
  },
  {
   "cell_type": "code",
   "execution_count": null,
   "id": "c5c91ab6",
   "metadata": {},
   "outputs": [],
   "source": [
    "x"
   ]
  },
  {
   "cell_type": "code",
   "execution_count": null,
   "id": "e107f115",
   "metadata": {},
   "outputs": [],
   "source": [
    "from sklearn.cluster import SpectralClustering\n",
    "sc = SpectralClustering(3, affinity='precomputed', n_init=100,\n",
    "                         assign_labels='discretize')\n",
    "sc.fit_predict(x)  "
   ]
  },
  {
   "cell_type": "code",
   "execution_count": null,
   "id": "bc3eed3e",
   "metadata": {},
   "outputs": [],
   "source": [
    "from sklearn.cluster import MeanShift\n",
    "clustering=MeanShift(bandwidth=2).fit(x)"
   ]
  },
  {
   "cell_type": "code",
   "execution_count": null,
   "id": "c109734a",
   "metadata": {},
   "outputs": [],
   "source": [
    "supervised=pd.DataFrame(dataset)"
   ]
  },
  {
   "cell_type": "code",
   "execution_count": null,
   "id": "6262c558",
   "metadata": {},
   "outputs": [],
   "source": [
    "supervised['cluster_group']=clustering"
   ]
  },
  {
   "cell_type": "code",
   "execution_count": null,
   "id": "be8b4381",
   "metadata": {},
   "outputs": [],
   "source": [
    "supervised"
   ]
  },
  {
   "cell_type": "code",
   "execution_count": null,
   "id": "ebffdfee",
   "metadata": {},
   "outputs": [],
   "source": [
    "supervised.to_csv('cluster.csv',index=False)"
   ]
  },
  {
   "cell_type": "code",
   "execution_count": null,
   "id": "f2531f7b",
   "metadata": {},
   "outputs": [],
   "source": [
    "#!pip install seaborn"
   ]
  },
  {
   "cell_type": "code",
   "execution_count": null,
   "id": "9bebe476",
   "metadata": {},
   "outputs": [],
   "source": [
    "import seaborn as sns\n",
    "facet=sns.lmplot(data=supervised, x=supervised.columns[3], y=supervised.columns[4], hue=supervised.columns[5],\n",
    "                fit_reg=False, legend=True, legend_out=True)"
   ]
  },
  {
   "cell_type": "code",
   "execution_count": null,
   "id": "d1c9a0d4",
   "metadata": {},
   "outputs": [],
   "source": []
  }
 ],
 "metadata": {
  "kernelspec": {
   "display_name": "Python 3 (ipykernel)",
   "language": "python",
   "name": "python3"
  },
  "language_info": {
   "codemirror_mode": {
    "name": "ipython",
    "version": 3
   },
   "file_extension": ".py",
   "mimetype": "text/x-python",
   "name": "python",
   "nbconvert_exporter": "python",
   "pygments_lexer": "ipython3",
   "version": "3.7.4"
  }
 },
 "nbformat": 4,
 "nbformat_minor": 5
}
